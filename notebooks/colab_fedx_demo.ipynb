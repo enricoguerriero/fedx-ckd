{
 "cells": [
  {
   "cell_type": "markdown",
   "metadata": {},
   "source": [
    "# FedX CKD Colab Demo\n",
    "This notebook demonstrates how to run a small federated training job using FedX with cross‑knowledge distillation, perform a linear probe on the resulting representation and train a centralised baseline for comparison.  Each section is self‑contained and can be executed independently."
   ]
  },
  {
   "cell_type": "code",
   "execution_count": null,
   "metadata": {},
   "outputs": [],
   "source": [
    "!pip install -q torch torchvision numpy tqdm wandb scikit-learn"
   ]
  },
  {
   "cell_type": "code",
   "execution_count": null,
   "metadata": {},
   "outputs": [],
   "source": [
    "import os\n",
    "if not os.path.exists(\"fedx-ckd\"):\n",
    "    !git clone https://github.com/enricoguerriero/fedx-ckd.git"
   ]
  },
  {
   "cell_type": "code",
   "execution_count": null,
   "metadata": {},
   "outputs": [],
   "source": [
    "%cd fedx-ckd"
   ]
  },
  {
   "cell_type": "code",
   "execution_count": null,
   "metadata": {},
   "outputs": [],
   "source": [
    "!python -m src.fedx.trainer \\\n",
    "      --dataset cifar10 \\\n",
    "      --n_clients 2 \\\n",
    "      --epochs_per_round 1 \\\n",
    "      --n_rounds 1 \\\n",
    "      --beta 0.5 \\\n",
    "      --batch_size 64 \\\n",
    "      --seed 0 \\\n",
    "      --device auto \\\n",
    "      --outdir demo_runs"
   ]
  },
  {
   "cell_type": "code",
   "execution_count": null,
   "metadata": {},
   "outputs": [],
   "source": [
    "!python -m src.eval.linear_probe \\\n",
    "      --dataset cifar10 \\\n",
    "      --checkpoint demo_runs/global_round_001.pt \\\n",
    "      --epochs 5 \\\n",
    "      --batch_size 64 \\\n",
    "      --seed 0 \\\n",
    "      --device auto"
   ]
  },
  {
   "cell_type": "code",
   "execution_count": null,
   "metadata": {},
   "outputs": [],
   "source": [
    "!python -m src.eval.baseline_central \\\n",
    "      --dataset cifar10 \\\n",
    "      --epochs 5 \\\n",
    "      --batch_size 64 \\\n",
    "      --seed 0 \\\n",
    "      --device auto \\\n",
    "      --outdir demo_runs"
   ]
  }
 ],
 "metadata": {
  "kernelspec": {
   "display_name": "Python 3",
   "language": "python",
   "name": "python3"
  },
  "language_info": {
   "name": "python",
   "version": "3.10"
  }
 },
 "nbformat": 4,
 "nbformat_minor": 5
}
